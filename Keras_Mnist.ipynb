{
  "nbformat": 4,
  "nbformat_minor": 0,
  "metadata": {
    "colab": {
      "name": "Keras-Mnist.ipynb",
      "provenance": [],
      "collapsed_sections": [],
      "include_colab_link": true
    },
    "kernelspec": {
      "name": "python3",
      "display_name": "Python 3"
    },
    "accelerator": "GPU"
  },
  "cells": [
    {
      "cell_type": "markdown",
      "metadata": {
        "id": "view-in-github",
        "colab_type": "text"
      },
      "source": [
        "<a href=\"https://colab.research.google.com/github/Mritunjaysri01/Handwritten-Text-Recognition/blob/master/Keras_Mnist.ipynb\" target=\"_parent\"><img src=\"https://colab.research.google.com/assets/colab-badge.svg\" alt=\"Open In Colab\"/></a>"
      ]
    },
    {
      "cell_type": "code",
      "metadata": {
        "id": "HcsvvWE4kNsY",
        "colab_type": "code",
        "colab": {
          "base_uri": "https://localhost:8080/",
          "height": 34
        },
        "outputId": "d63fed1b-1ff3-4ba9-cd82-fa52944f0dd4"
      },
      "source": [
        "import tensorflow as tf\n",
        "from keras.datasets import mnist\n",
        "from keras.models import Sequential\n",
        "from keras.layers import Dense\n",
        "from keras.layers import Dropout\n",
        "from keras.layers import Flatten\n",
        "from keras.layers.convolutional import Conv2D\n",
        "from keras.layers.convolutional import MaxPooling2D\n",
        "import numpy as np\n",
        "from matplotlib import pyplot as plt\n",
        "from keras.utils import np_utils\n",
        "import cv2\n",
        "import os\n",
        "\n",
        "from keras import backend as K\n",
        "\n",
        "#K.tensorflow_backend.set_image_dim_ordering('th')\n",
        "K.set_image_data_format('channels_first')\n",
        "\n",
        "%matplotlib inline\n",
        "\n",
        "seed = 7\n",
        "np.random.seed(seed)"
      ],
      "execution_count": 1,
      "outputs": [
        {
          "output_type": "stream",
          "text": [
            "Using TensorFlow backend.\n"
          ],
          "name": "stderr"
        }
      ]
    },
    {
      "cell_type": "code",
      "metadata": {
        "id": "u9dn83SmmFo4",
        "colab_type": "code",
        "colab": {}
      },
      "source": [
        "def get_available_gpus():\n",
        "    if K.tensorflow_backend._LOCAL_DEVICES is None:\n",
        "        devices = tf.config.list_logical_devices()\n",
        "        K.tensorflow_backend._LOCAL_DEVICES = [x.name for x in devices]\n",
        "    return [x for x in K.tensorflow_backend._LOCAL_DEVICES if 'device:gpu' in x.lower()]\n",
        "\n",
        "def load_data():\n",
        "    (x_train, y_train), (x_test, y_test) = mnist.load_data()\n",
        "\n",
        "    x_train = x_train.reshape(x_train.shape[0], 1, 28, 28).astype('float32')\n",
        "\n",
        "    x_test = x_test.reshape(x_test.shape[0], 1, 28, 28).astype('float32')\n",
        "\n",
        "    x_train = x_train / 255\n",
        "    x_test = x_test / 255\n",
        "\n",
        "    y_train = np_utils.to_categorical(y_train)\n",
        "    y_test = np_utils.to_categorical(y_test)\n",
        "    \n",
        "    return x_train, y_train, x_test, y_test"
      ],
      "execution_count": 2,
      "outputs": []
    },
    {
      "cell_type": "code",
      "metadata": {
        "id": "MWfftoRZmaDz",
        "colab_type": "code",
        "colab": {}
      },
      "source": [
        "x_train, y_train, x_test, y_test = load_data()\n",
        "num_classes = y_test.shape[1]\n",
        "\n",
        "# O model será exportado para este arquivo\n",
        "filename='mnistneuralnet.h5'\n",
        "\n",
        "\n",
        "def model():\n",
        "    model = Sequential()\n",
        "\n",
        "    model.add(Conv2D(30, (5, 5), input_shape=(1, 28, 28), activation='relu'))\n",
        "\n",
        "    model.add(MaxPooling2D(pool_size=(2, 2)))\n",
        "\n",
        "    model.add(Conv2D(15, (3, 3), input_shape=(1, 28, 28), activation='relu'))\n",
        "\n",
        "    model.add(MaxPooling2D(pool_size=(2, 2)))\n",
        "\n",
        "    model.add(Dropout(0.2))\n",
        "\n",
        "    model.add(Flatten())\n",
        "\n",
        "    model.add(Dense(128, activation='relu'))\n",
        "\n",
        "    model.add(Dense(64, activation='relu'))\n",
        "\n",
        "    model.add(Dense(32, activation='relu'))\n",
        "\n",
        "    model.add(Dense(num_classes, activation='softmax', name='predict'))\n",
        "\n",
        "    model.compile(loss='categorical_crossentropy', optimizer='adam', metrics=['accuracy'])\n",
        "    \n",
        "    return model"
      ],
      "execution_count": 4,
      "outputs": []
    },
    {
      "cell_type": "code",
      "metadata": {
        "id": "NCeeyXKHdxN-",
        "colab_type": "code",
        "colab": {}
      },
      "source": [
        ""
      ],
      "execution_count": 4,
      "outputs": []
    },
    {
      "cell_type": "code",
      "metadata": {
        "id": "Ynxq0fXEmn3v",
        "colab_type": "code",
        "colab": {
          "base_uri": "https://localhost:8080/",
          "height": 898
        },
        "outputId": "b3138be8-ec31-4a80-df08-9a6bd30248da"
      },
      "source": [
        "K.tensorflow_backend._get_available_gpus = get_available_gpus\n",
        "model = model()\n",
        "model.summary()\n",
        "\n",
        "# Verifica se já existe um modelo treinado e exportado para um arquivo .h5.\n",
        "# Um novo modelo será treinado, caso este arquivo não exista.\n",
        "if not os.path.exists('./{}'.format(filename) ):\n",
        "    model.fit(x_train, y_train, validation_data=(x_test, y_test), epochs=10, batch_size=200)\n",
        "    model.save_weights(filename)\n",
        "else:\n",
        "    # carrega um modelo previamente treinado\n",
        "    model.load_weights('./{}'.format(filename) )"
      ],
      "execution_count": 5,
      "outputs": [
        {
          "output_type": "stream",
          "text": [
            "Model: \"sequential_1\"\n",
            "_________________________________________________________________\n",
            "Layer (type)                 Output Shape              Param #   \n",
            "=================================================================\n",
            "conv2d_1 (Conv2D)            (None, 30, 24, 24)        780       \n",
            "_________________________________________________________________\n",
            "max_pooling2d_1 (MaxPooling2 (None, 30, 12, 12)        0         \n",
            "_________________________________________________________________\n",
            "conv2d_2 (Conv2D)            (None, 15, 10, 10)        4065      \n",
            "_________________________________________________________________\n",
            "max_pooling2d_2 (MaxPooling2 (None, 15, 5, 5)          0         \n",
            "_________________________________________________________________\n",
            "dropout_1 (Dropout)          (None, 15, 5, 5)          0         \n",
            "_________________________________________________________________\n",
            "flatten_1 (Flatten)          (None, 375)               0         \n",
            "_________________________________________________________________\n",
            "dense_1 (Dense)              (None, 128)               48128     \n",
            "_________________________________________________________________\n",
            "dense_2 (Dense)              (None, 64)                8256      \n",
            "_________________________________________________________________\n",
            "dense_3 (Dense)              (None, 32)                2080      \n",
            "_________________________________________________________________\n",
            "predict (Dense)              (None, 10)                330       \n",
            "=================================================================\n",
            "Total params: 63,639\n",
            "Trainable params: 63,639\n",
            "Non-trainable params: 0\n",
            "_________________________________________________________________\n",
            "Train on 60000 samples, validate on 10000 samples\n",
            "Epoch 1/10\n",
            "60000/60000 [==============================] - 10s 161us/step - loss: 0.4202 - accuracy: 0.8645 - val_loss: 0.0871 - val_accuracy: 0.9743\n",
            "Epoch 2/10\n",
            "60000/60000 [==============================] - 4s 62us/step - loss: 0.0990 - accuracy: 0.9700 - val_loss: 0.0498 - val_accuracy: 0.9838\n",
            "Epoch 3/10\n",
            "60000/60000 [==============================] - 4s 61us/step - loss: 0.0721 - accuracy: 0.9776 - val_loss: 0.0410 - val_accuracy: 0.9855\n",
            "Epoch 4/10\n",
            "60000/60000 [==============================] - 4s 62us/step - loss: 0.0581 - accuracy: 0.9821 - val_loss: 0.0363 - val_accuracy: 0.9877\n",
            "Epoch 5/10\n",
            "60000/60000 [==============================] - 4s 61us/step - loss: 0.0493 - accuracy: 0.9842 - val_loss: 0.0297 - val_accuracy: 0.9897\n",
            "Epoch 6/10\n",
            "60000/60000 [==============================] - 4s 62us/step - loss: 0.0428 - accuracy: 0.9862 - val_loss: 0.0286 - val_accuracy: 0.9903\n",
            "Epoch 7/10\n",
            "60000/60000 [==============================] - 4s 62us/step - loss: 0.0399 - accuracy: 0.9876 - val_loss: 0.0284 - val_accuracy: 0.9904\n",
            "Epoch 8/10\n",
            "60000/60000 [==============================] - 4s 64us/step - loss: 0.0353 - accuracy: 0.9891 - val_loss: 0.0248 - val_accuracy: 0.9920\n",
            "Epoch 9/10\n",
            "60000/60000 [==============================] - 4s 63us/step - loss: 0.0324 - accuracy: 0.9896 - val_loss: 0.0308 - val_accuracy: 0.9903\n",
            "Epoch 10/10\n",
            "60000/60000 [==============================] - 4s 62us/step - loss: 0.0295 - accuracy: 0.9904 - val_loss: 0.0287 - val_accuracy: 0.9916\n"
          ],
          "name": "stdout"
        }
      ]
    },
    {
      "cell_type": "code",
      "metadata": {
        "id": "kp2wR1gnn7kG",
        "colab_type": "code",
        "colab": {
          "base_uri": "https://localhost:8080/",
          "height": 52
        },
        "outputId": "de8bf55b-f8c1-4cd5-c322-65a8fb54c80a"
      },
      "source": [
        "scores = model.evaluate(x_test, y_test, verbose=0)\n",
        "print(\"\\nacc: %.2f%%\" % (scores[1]*100))"
      ],
      "execution_count": 6,
      "outputs": [
        {
          "output_type": "stream",
          "text": [
            "\n",
            "acc: 99.16%\n"
          ],
          "name": "stdout"
        }
      ]
    },
    {
      "cell_type": "code",
      "metadata": {
        "id": "3_w7_5A1nBRH",
        "colab_type": "code",
        "colab": {
          "base_uri": "https://localhost:8080/",
          "height": 274
        },
        "outputId": "d9f09137-3b6a-453a-c0cb-9ea2f39c018d"
      },
      "source": [
        "img_pred = cv2.imread(\"nintyeight.png\", 0)\n",
        "plt.imshow(img_pred, cmap='gray')\n",
        "\n",
        "if img_pred.shape != [28,28]:\n",
        "    img2 = cv2.resize(img_pred, (28, 28))\n",
        "    img_pred = img2.reshape(28, 28, -1)\n",
        "else:\n",
        "    img_pred = img_pred.reshape(28, 28, -1)\n",
        "\n",
        "\n",
        "img_pred = img_pred.reshape(1, 1, 28, 28).astype('float32')\n",
        "\n",
        "img_pred = img_pred/255.0\n",
        "\n",
        "\n",
        "\n",
        "pred = model.predict_classes(img_pred)\n",
        "pred_proba = model.predict_proba(img_pred)\n",
        "pred_proba = \"%.2f%%\" % (pred_proba[0][pred]*100)\n",
        "print(pred[0], \" com confiança de \", pred_proba)\n"
      ],
      "execution_count": 10,
      "outputs": [
        {
          "output_type": "stream",
          "text": [
            "8  com confiança de  99.99%\n"
          ],
          "name": "stdout"
        },
        {
          "output_type": "display_data",
          "data": {
            "image/png": "[encoded data removed]",
            "text/plain": [
              "<Figure size 432x288 with 1 Axes>"
            ]
          },
          "metadata": {
            "tags": [],
            "needs_background": "light"
          }
        }
      ]
    },
    {
      "cell_type": "code",
      "metadata": {
        "id": "KFzZE77Whprx",
        "colab_type": "code",
        "colab": {}
      },
      "source": [
        ""
      ],
      "execution_count": null,
      "outputs": []
    }
  ]
}